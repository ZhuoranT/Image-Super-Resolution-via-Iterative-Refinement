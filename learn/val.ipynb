{
 "cells": [
  {
   "cell_type": "code",
   "execution_count": null,
   "metadata": {},
   "outputs": [],
   "source": [
    "print('test')"
   ]
  },
  {
   "cell_type": "code",
   "execution_count": null,
   "metadata": {},
   "outputs": [],
   "source": [
    "# Edit json to add pretrain model path and run the evaluation \n",
    "%cd /home/tzr/Documents/GitHubSYNC/Image-Super-Resolution-via-Iterative-Refinement\n",
    "!python sr.py -p val -c config/sr_sr3_64_512_valTest.json"
   ]
  },
  {
   "cell_type": "code",
   "execution_count": null,
   "metadata": {},
   "outputs": [],
   "source": [
    "# Quantitative evaluation alone using SSIM/PSNR metrics on given result root\n",
    "# export val\n",
    "%cd /home/tzr/Documents/GitHubSYNC/Image-Super-Resolution-via-Iterative-Refinement\n",
    "!python eval.py -p 'experiments/221014_224141/results'\n"
   ]
  },
  {
   "cell_type": "code",
   "execution_count": null,
   "metadata": {},
   "outputs": [],
   "source": [
    "# test\n",
    "ridx = 'test1'\n",
    "fidx = 'test2'\n",
    "\n",
    "print(\"ridx:\" + ridx)\n",
    "print(\"fidx:\" + fidx)\n",
    "assert ridx == fidx, 'Image ridx:{}!=fidx:{}'.format(ridx, fidx)\n"
   ]
  }
 ],
 "metadata": {
  "kernelspec": {
   "display_name": "Python 3.8.12 ('RockLabTorch')",
   "language": "python",
   "name": "python3"
  },
  "language_info": {
   "codemirror_mode": {
    "name": "ipython",
    "version": 3
   },
   "file_extension": ".py",
   "mimetype": "text/x-python",
   "name": "python",
   "nbconvert_exporter": "python",
   "pygments_lexer": "ipython3",
   "version": "3.8.12"
  },
  "orig_nbformat": 4,
  "vscode": {
   "interpreter": {
    "hash": "527e757e1c587730d72dfd6dc7ea9b8408877a8a8e3b307a272307089f882730"
   }
  }
 },
 "nbformat": 4,
 "nbformat_minor": 2
}
